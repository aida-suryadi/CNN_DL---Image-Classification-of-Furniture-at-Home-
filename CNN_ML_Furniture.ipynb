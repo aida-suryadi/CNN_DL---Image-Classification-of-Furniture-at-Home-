{
  "nbformat": 4,
  "nbformat_minor": 0,
  "metadata": {
    "colab": {
      "name": "CNN_ML Furniture.ipynb",
      "provenance": []
    },
    "kernelspec": {
      "name": "python3",
      "display_name": "Python 3"
    },
    "language_info": {
      "name": "python"
    }
  },
  "cells": [
    {
      "cell_type": "code",
      "metadata": {
        "colab": {
          "base_uri": "https://localhost:8080/"
        },
        "id": "P7t-bZsqOq7t",
        "outputId": "e61836ae-73ec-4cbc-f76f-6994e07de535"
      },
      "source": [
        "from google.colab import drive\n",
        "drive.mount('/content/gdrive')\n"
      ],
      "execution_count": 22,
      "outputs": [
        {
          "output_type": "stream",
          "name": "stdout",
          "text": [
            "Mounted at /content/gdrive\n"
          ]
        }
      ]
    },
    {
      "cell_type": "code",
      "metadata": {
        "id": "bXvjI9qaRelj"
      },
      "source": [
        "import os\n",
        "os.chdir('/content/gdrive/MyDrive/Dataset/Furniture')"
      ],
      "execution_count": 23,
      "outputs": []
    },
    {
      "cell_type": "code",
      "metadata": {
        "colab": {
          "base_uri": "https://localhost:8080/"
        },
        "id": "Ng4cV0hwRr0m",
        "outputId": "a6fd04ed-45f3-44bc-b102-e60571671018"
      },
      "source": [
        "import sys\n",
        "from matplotlib import pyplot\n",
        "from tensorflow.keras.utils import to_categorical\n",
        "from tensorflow.keras.models import Sequential\n",
        "from tensorflow.keras.layers import Conv2D\n",
        "from tensorflow.keras.layers import MaxPooling2D\n",
        "from tensorflow.keras.layers import Dense\n",
        "from tensorflow.keras.layers import Flatten\n",
        "from tensorflow.keras.optimizers import SGD\n",
        "from tensorflow.keras.preprocessing.image import ImageDataGenerator\n",
        "\n",
        "\n",
        "# model\n",
        "model = Sequential()\n",
        "\n",
        "model.add(Conv2D(32, (3, 3), activation='relu', \n",
        "                 padding='same', input_shape=(200, 300, 3)))\n",
        "\n",
        "model.add(MaxPooling2D((2, 2)))\n",
        "\n",
        "# Reshape the deep features to fit MLP as its input\n",
        "model.add(Flatten())\n",
        "\n",
        "# Full-connected layers \n",
        "model.add(Dense(128, activation='relu'))\n",
        "model.add(Dense(1, activation='sigmoid'))\n",
        "\n",
        "\n",
        "#add a layer with 10 neurons\n",
        "\n",
        "\n",
        "# Step for model compilation\n",
        "opt = SGD(lr=0.0001, momentum=0.9)\n",
        "model.compile(optimizer=opt, loss='binary_crossentropy', metrics=['accuracy'])\n",
        "#model.compile(loss='categorical_crossentropy', optimizer = 'adam',\n",
        "             # metrics = ['accuracy'])\n",
        "# Summary of the model\n",
        "model.summary()"
      ],
      "execution_count": 110,
      "outputs": [
        {
          "output_type": "stream",
          "name": "stdout",
          "text": [
            "Model: \"sequential_27\"\n",
            "_________________________________________________________________\n",
            "Layer (type)                 Output Shape              Param #   \n",
            "=================================================================\n",
            "conv2d_27 (Conv2D)           (None, 200, 300, 32)      896       \n",
            "_________________________________________________________________\n",
            "max_pooling2d_27 (MaxPooling (None, 100, 150, 32)      0         \n",
            "_________________________________________________________________\n",
            "flatten_27 (Flatten)         (None, 480000)            0         \n",
            "_________________________________________________________________\n",
            "dense_76 (Dense)             (None, 128)               61440128  \n",
            "_________________________________________________________________\n",
            "dense_77 (Dense)             (None, 1)                 129       \n",
            "=================================================================\n",
            "Total params: 61,441,153\n",
            "Trainable params: 61,441,153\n",
            "Non-trainable params: 0\n",
            "_________________________________________________________________\n"
          ]
        },
        {
          "output_type": "stream",
          "name": "stderr",
          "text": [
            "/usr/local/lib/python3.7/dist-packages/keras/optimizer_v2/optimizer_v2.py:356: UserWarning: The `lr` argument is deprecated, use `learning_rate` instead.\n",
            "  \"The `lr` argument is deprecated, use `learning_rate` instead.\")\n"
          ]
        }
      ]
    },
    {
      "cell_type": "code",
      "metadata": {
        "colab": {
          "base_uri": "https://localhost:8080/"
        },
        "id": "AQYVITmSRyls",
        "outputId": "59d4eb3e-2e90-4b22-d852-7aec17524c4f"
      },
      "source": [
        "datagen = ImageDataGenerator(rescale=1.0/255.0)\n",
        "train_it = datagen.flow_from_directory('/content/gdrive/MyDrive/Dataset/Furniture/train',\n",
        "    class_mode='binary', batch_size=10, target_size=(200, 300) , classes=[ 'Bed','sofa'] )\n",
        "val_it = datagen.flow_from_directory('/content/gdrive/MyDrive/Dataset/Furniture/val',\n",
        "    class_mode='binary', batch_size=10, target_size=(200, 300), classes=[ 'Bed', 'sofa'])"
      ],
      "execution_count": 111,
      "outputs": [
        {
          "output_type": "stream",
          "name": "stdout",
          "text": [
            "Found 240 images belonging to 2 classes.\n",
            "Found 68 images belonging to 2 classes.\n"
          ]
        }
      ]
    },
    {
      "cell_type": "code",
      "metadata": {
        "colab": {
          "base_uri": "https://localhost:8080/"
        },
        "id": "T18IVMqdSGE9",
        "outputId": "3d8e7598-018a-4626-c760-52ce54f037a6"
      },
      "source": [
        "print(train_it.class_indices)"
      ],
      "execution_count": 112,
      "outputs": [
        {
          "output_type": "stream",
          "name": "stdout",
          "text": [
            "{'Bed': 0, 'sofa': 1}\n"
          ]
        }
      ]
    },
    {
      "cell_type": "code",
      "metadata": {
        "colab": {
          "base_uri": "https://localhost:8080/"
        },
        "id": "euiliiPESKiV",
        "outputId": "c32f2dd7-98b9-438d-ff20-bce910d16df5"
      },
      "source": [
        "#training the model and log the history\n",
        "history = model.fit(train_it, steps_per_epoch=len(train_it),\n",
        "    validation_data=val_it, validation_steps=len(val_it), epochs=30, verbose=1)\n",
        "# Validation of the model\n",
        "loss, acc = model.evaluate(val_it, steps=len(val_it), verbose=1)\n",
        "print('> %.2f' % (acc * 100.0))"
      ],
      "execution_count": 113,
      "outputs": [
        {
          "output_type": "stream",
          "name": "stdout",
          "text": [
            "Epoch 1/30\n",
            "24/24 [==============================] - 60s 3s/step - loss: 0.6477 - accuracy: 0.6542 - val_loss: 0.5843 - val_accuracy: 0.6618\n",
            "Epoch 2/30\n",
            "24/24 [==============================] - 20s 831ms/step - loss: 0.5294 - accuracy: 0.7417 - val_loss: 0.5101 - val_accuracy: 0.7941\n",
            "Epoch 3/30\n",
            "24/24 [==============================] - 20s 811ms/step - loss: 0.4842 - accuracy: 0.7917 - val_loss: 0.5127 - val_accuracy: 0.8088\n",
            "Epoch 4/30\n",
            "24/24 [==============================] - 20s 821ms/step - loss: 0.4639 - accuracy: 0.7917 - val_loss: 0.5304 - val_accuracy: 0.7500\n",
            "Epoch 5/30\n",
            "24/24 [==============================] - 19s 810ms/step - loss: 0.4383 - accuracy: 0.8000 - val_loss: 0.4869 - val_accuracy: 0.7794\n",
            "Epoch 6/30\n",
            "24/24 [==============================] - 20s 813ms/step - loss: 0.4244 - accuracy: 0.8083 - val_loss: 0.4979 - val_accuracy: 0.7794\n",
            "Epoch 7/30\n",
            "24/24 [==============================] - 20s 816ms/step - loss: 0.4248 - accuracy: 0.8167 - val_loss: 0.5074 - val_accuracy: 0.7500\n",
            "Epoch 8/30\n",
            "24/24 [==============================] - 20s 808ms/step - loss: 0.4060 - accuracy: 0.8125 - val_loss: 0.6004 - val_accuracy: 0.7794\n",
            "Epoch 9/30\n",
            "24/24 [==============================] - 20s 822ms/step - loss: 0.4076 - accuracy: 0.8042 - val_loss: 0.4892 - val_accuracy: 0.7941\n",
            "Epoch 10/30\n",
            "24/24 [==============================] - 20s 819ms/step - loss: 0.3846 - accuracy: 0.8167 - val_loss: 0.5310 - val_accuracy: 0.7353\n",
            "Epoch 11/30\n",
            "24/24 [==============================] - 20s 812ms/step - loss: 0.3778 - accuracy: 0.8542 - val_loss: 0.4990 - val_accuracy: 0.7941\n",
            "Epoch 12/30\n",
            "24/24 [==============================] - 20s 821ms/step - loss: 0.3598 - accuracy: 0.8250 - val_loss: 0.5865 - val_accuracy: 0.7941\n",
            "Epoch 13/30\n",
            "24/24 [==============================] - 20s 822ms/step - loss: 0.4041 - accuracy: 0.8125 - val_loss: 0.5047 - val_accuracy: 0.7647\n",
            "Epoch 14/30\n",
            "24/24 [==============================] - 21s 871ms/step - loss: 0.3517 - accuracy: 0.8292 - val_loss: 0.5073 - val_accuracy: 0.7941\n",
            "Epoch 15/30\n",
            "24/24 [==============================] - 20s 819ms/step - loss: 0.3454 - accuracy: 0.8250 - val_loss: 0.5404 - val_accuracy: 0.7353\n",
            "Epoch 16/30\n",
            "24/24 [==============================] - 25s 1s/step - loss: 0.3223 - accuracy: 0.8708 - val_loss: 0.5075 - val_accuracy: 0.7941\n",
            "Epoch 17/30\n",
            "24/24 [==============================] - 20s 830ms/step - loss: 0.3453 - accuracy: 0.8458 - val_loss: 0.5261 - val_accuracy: 0.7500\n",
            "Epoch 18/30\n",
            "24/24 [==============================] - 20s 820ms/step - loss: 0.3493 - accuracy: 0.8417 - val_loss: 0.5118 - val_accuracy: 0.7941\n",
            "Epoch 19/30\n",
            "24/24 [==============================] - 20s 820ms/step - loss: 0.3263 - accuracy: 0.8458 - val_loss: 0.5355 - val_accuracy: 0.7794\n",
            "Epoch 20/30\n",
            "24/24 [==============================] - 20s 794ms/step - loss: 0.3497 - accuracy: 0.8375 - val_loss: 0.5756 - val_accuracy: 0.7206\n",
            "Epoch 21/30\n",
            "24/24 [==============================] - 20s 803ms/step - loss: 0.3730 - accuracy: 0.8208 - val_loss: 0.5194 - val_accuracy: 0.7941\n",
            "Epoch 22/30\n",
            "24/24 [==============================] - 20s 810ms/step - loss: 0.3338 - accuracy: 0.8333 - val_loss: 0.5405 - val_accuracy: 0.7500\n",
            "Epoch 23/30\n",
            "24/24 [==============================] - 20s 824ms/step - loss: 0.3342 - accuracy: 0.8542 - val_loss: 0.5281 - val_accuracy: 0.8088\n",
            "Epoch 24/30\n",
            "24/24 [==============================] - 20s 814ms/step - loss: 0.3242 - accuracy: 0.8417 - val_loss: 0.5352 - val_accuracy: 0.7500\n",
            "Epoch 25/30\n",
            "24/24 [==============================] - 20s 821ms/step - loss: 0.2858 - accuracy: 0.8708 - val_loss: 0.5318 - val_accuracy: 0.7941\n",
            "Epoch 26/30\n",
            "24/24 [==============================] - 20s 819ms/step - loss: 0.3035 - accuracy: 0.8583 - val_loss: 0.5831 - val_accuracy: 0.7500\n",
            "Epoch 27/30\n",
            "24/24 [==============================] - 20s 818ms/step - loss: 0.2949 - accuracy: 0.8417 - val_loss: 0.5685 - val_accuracy: 0.7206\n",
            "Epoch 28/30\n",
            "24/24 [==============================] - 20s 821ms/step - loss: 0.2813 - accuracy: 0.8750 - val_loss: 0.5196 - val_accuracy: 0.8235\n",
            "Epoch 29/30\n",
            "24/24 [==============================] - 20s 821ms/step - loss: 0.2778 - accuracy: 0.8917 - val_loss: 0.5215 - val_accuracy: 0.8088\n",
            "Epoch 30/30\n",
            "24/24 [==============================] - 20s 823ms/step - loss: 0.2612 - accuracy: 0.9083 - val_loss: 0.5556 - val_accuracy: 0.7353\n",
            "7/7 [==============================] - 2s 227ms/step - loss: 0.5556 - accuracy: 0.7353\n",
            "> 73.53\n"
          ]
        }
      ]
    },
    {
      "cell_type": "code",
      "metadata": {
        "colab": {
          "base_uri": "https://localhost:8080/",
          "height": 545
        },
        "id": "MG-J06h0EsQD",
        "outputId": "330cc633-f8cf-49b0-ecea-37227c8411ae"
      },
      "source": [
        "pyplot.title('Loss')\n",
        "pyplot.plot(history.history['loss'], color='yellow', label='train')\n",
        "pyplot.plot(history.history['val_loss'], color='brown', label='val')\n",
        "\n",
        "pyplot.show()\n",
        "# # Graph - the accuracy value\n",
        "pyplot.title('Accuracy')\n",
        "pyplot.plot(history.history['accuracy'], color='yellow', label='train')\n",
        "pyplot.plot(history.history['val_accuracy'], color='brown', label='val')\n",
        "\n",
        "# show the graphs\n",
        "pyplot.show()"
      ],
      "execution_count": 114,
      "outputs": [
        {
          "output_type": "display_data",
          "data": {
            "image/png": "[encoded data removed]",
            "text/plain": [
              "<Figure size 432x288 with 1 Axes>"
            ]
          },
          "metadata": {
            "needs_background": "light"
          }
        },
        {
          "output_type": "display_data",
          "data": {
            "image/png": "[encoded data removed]",
            "text/plain": [
              "<Figure size 432x288 with 1 Axes>"
            ]
          },
          "metadata": {
            "needs_background": "light"
          }
        }
      ]
    },
    {
      "cell_type": "code",
      "metadata": {
        "id": "xQbjTFJPE6-E"
      },
      "source": [
        ""
      ],
      "execution_count": null,
      "outputs": []
    },
    {
      "cell_type": "markdown",
      "metadata": {
        "id": "vBOnXHOKEyem"
      },
      "source": [
        ""
      ]
    }
  ]
}